{
 "cells": [
  {
   "cell_type": "markdown",
   "metadata": {},
   "source": [
    "# FRED Overview\n",
    "\n",
    "In order to programatically request data from FRED, you'll need to first request an api key from the\n",
    "[FRED website](https://fred.stlouisfed.org/docs/api/api_key.html). After you have done so, you'll  have the ability to request data from FRED via python. The python package I \n",
    "have always used is [fredapi](https://github.com/mortada/fredapi). Why did I choose this package? It was the first one I chose a long time ago, it worked, and I never had a reason to change.\n"
   ]
  },
  {
   "cell_type": "markdown",
   "metadata": {},
   "source": [
    "To do \n",
    "* show how to get unrevised data"
   ]
  },
  {
   "cell_type": "code",
   "execution_count": 2,
   "metadata": {},
   "outputs": [],
   "source": [
    "import pandas as pd\n",
    "import numpy as np\n",
    "from matplotlib import pyplot as plt\n",
    "from pathlib import Path\n",
    "import seaborn as sns\n",
    "import xlwings as xw\n",
    "import researchtools.api as rt\n",
    "plt.style.use('ggplot')\n",
    "plt.rcParams['figure.figsize'] = [14, 8]\n",
    "\n",
    "from typing import List, Dict, Tuple, Optional, Union, Callable, Any, Iterable\n"
   ]
  },
  {
   "cell_type": "markdown",
   "metadata": {},
   "source": [
    "## Establishing a FRED object\n",
    "Step one when using FRED is to import the package and establish a master \"fred\" object. The fred object is the primary work horse and will be doing most of the heavy lifting. "
   ]
  },
  {
   "cell_type": "code",
   "execution_count": 3,
   "metadata": {},
   "outputs": [],
   "source": [
    "from fredapi import Fred\n",
    "\n",
    "BRANDTS_API_KEY = \"37eb22bada238c97f282715480e7d897\"\n",
    "fred = Fred(api_key=BRANDTS_API_KEY)"
   ]
  },
  {
   "cell_type": "markdown",
   "metadata": {},
   "source": [
    "## Requesting Data\n",
    "\n",
    "Now, let's say we would like to see the US Nominal GDP growth over time. The steps to doing this are:\n",
    "1. Find the data on FRED (Google tends to work better than directly searching in fred)\n",
    "    * My search: \"fred us nominal gdp\"\n",
    "2. Check that this is the series you want.\n",
    "3. Copy the series ID: found in the url or right after the title of the series.\n",
    "\n",
    "4. Call the 'get_series' method on the fred object and pass the series ID as an argument:\n",
    "\n",
    "<br>\n",
    "\n",
    "![FRED](content_images/4_FRED/GDP_snip.PNG)\n",
    "\n",
    "\n",
    "Note: There are other arugments you can pass to the 'get_series' method, such as start and end datess, but I tend to request all of the data and do any filtering I may want later. "
   ]
  },
  {
   "cell_type": "code",
   "execution_count": 9,
   "metadata": {},
   "outputs": [
    {
     "data": {
      "text/plain": [
       "1946-01-01          NaN\n",
       "1946-04-01          NaN\n",
       "1946-07-01          NaN\n",
       "1946-10-01          NaN\n",
       "1947-01-01      243.164\n",
       "                ...    \n",
       "2022-07-01    25994.639\n",
       "2022-10-01    26408.405\n",
       "2023-01-01    26813.601\n",
       "2023-04-01    27063.012\n",
       "2023-07-01    27623.543\n",
       "Length: 311, dtype: float64"
      ]
     },
     "execution_count": 9,
     "metadata": {},
     "output_type": "execute_result"
    }
   ],
   "source": [
    "us_nominal_gdp = fred.get_series('GDP')\n",
    "us_nominal_gdp"
   ]
  },
  {
   "cell_type": "code",
   "execution_count": 8,
   "metadata": {},
   "outputs": [],
   "source": [
    "# Request nominal and real gdp  \n",
    "gdps = fred.get_series('GDPC1')"
   ]
  },
  {
   "cell_type": "code",
   "execution_count": null,
   "metadata": {},
   "outputs": [],
   "source": []
  },
  {
   "cell_type": "code",
   "execution_count": null,
   "metadata": {},
   "outputs": [],
   "source": []
  },
  {
   "cell_type": "code",
   "execution_count": null,
   "metadata": {},
   "outputs": [],
   "source": []
  },
  {
   "cell_type": "markdown",
   "metadata": {},
   "source": [
    "## Helpful Functions"
   ]
  },
  {
   "cell_type": "code",
   "execution_count": 4,
   "metadata": {},
   "outputs": [],
   "source": [
    "def get_fred_data(series_id: str, name: Optional[str] = None) -> pd.DataFrame:\n",
    "    data_name = name if name is not None else series_id\n",
    "    df = fred.get_series(series_id).to_frame()\n",
    "    df.columns = [data_name]\n",
    "    df.index.name = \"date\"\n",
    "    return df"
   ]
  },
  {
   "cell_type": "code",
   "execution_count": null,
   "metadata": {},
   "outputs": [],
   "source": []
  },
  {
   "cell_type": "code",
   "execution_count": 1,
   "metadata": {},
   "outputs": [],
   "source": []
  }
 ],
 "metadata": {
  "interpreter": {
   "hash": "cf92aa13fedf815d5c8dd192b8d835913fde3e8bc926b2a0ad6cc74ef2ba3ca2"
  },
  "kernelspec": {
   "display_name": "Python 3.9.5 64-bit",
   "language": "python",
   "name": "python3"
  },
  "language_info": {
   "codemirror_mode": {
    "name": "ipython",
    "version": 3
   },
   "file_extension": ".py",
   "mimetype": "text/x-python",
   "name": "python",
   "nbconvert_exporter": "python",
   "pygments_lexer": "ipython3",
   "version": "3.11.3"
  },
  "orig_nbformat": 4
 },
 "nbformat": 4,
 "nbformat_minor": 2
}
