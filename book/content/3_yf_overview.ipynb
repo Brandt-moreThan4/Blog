{
 "cells": [
  {
   "cell_type": "markdown",
   "metadata": {},
   "source": [
    "# Yahoo Finance Overview\n",
    "\n",
    "Meant to be a brief overview of some of the basic, common tasks I perform in yahoo finance. It's likely that I will\n",
    "use this as a base for many future notebooks. \n",
    "\n",
    "This is meant to serve primarily as a visual quick reference notebook. \n",
    "\n",
    "[Github Link](https://github.com/ranaroussi/yfinance)\n",
    "\n",
    "To DO:\n",
    "* Answer the question of yahoo finance's reliability. \n",
    "    * Quality of data\n",
    "    * Will I get blocked?\n",
    "    * Is the repo being actively maintained?\n",
    "* Outline of bunch of basic tasks\n",
    "    * Price & Return Data (Most common task)\n",
    "        * Add a function to do the cleaning that I like to do. \n",
    "    * Company Info\n",
    "        * Pull fundamental data \n",
    "        * Show what kind of basic info you can observe  \n",
    "* Corporate Actions?"
   ]
  },
  {
   "cell_type": "code",
   "execution_count": 1,
   "metadata": {},
   "outputs": [],
   "source": [
    "import pandas as pd\n",
    "import numpy as np\n",
    "from datetime import datetime\n",
    "import matplotlib.pyplot as plt\n",
    "from pathlib import Path\n",
    "import yfinance as yf\n",
    "import xlwings as xw\n",
    "# plt.style.use('ggplot')\n",
    "import seaborn as sns\n",
    "plt.rcParams['figure.figsize'] = [10, 6]"
   ]
  },
  {
   "cell_type": "markdown",
   "metadata": {},
   "source": [
    "## Params"
   ]
  },
  {
   "cell_type": "code",
   "execution_count": 2,
   "metadata": {},
   "outputs": [],
   "source": [
    "UNIVERSAL_START_DATE = '2000-01-01'\n",
    "UNIVERSAL_END_DATE = '2023-10-31'"
   ]
  },
  {
   "cell_type": "markdown",
   "metadata": {},
   "source": [
    "## Misc / Temp"
   ]
  },
  {
   "cell_type": "code",
   "execution_count": 3,
   "metadata": {},
   "outputs": [
    {
     "data": {
      "text/html": [
       "<div>\n",
       "<style scoped>\n",
       "    .dataframe tbody tr th:only-of-type {\n",
       "        vertical-align: middle;\n",
       "    }\n",
       "\n",
       "    .dataframe tbody tr th {\n",
       "        vertical-align: top;\n",
       "    }\n",
       "\n",
       "    .dataframe thead th {\n",
       "        text-align: right;\n",
       "    }\n",
       "</style>\n",
       "<table border=\"1\" class=\"dataframe\">\n",
       "  <thead>\n",
       "    <tr style=\"text-align: right;\">\n",
       "      <th></th>\n",
       "      <th>AAPL</th>\n",
       "      <th>KO</th>\n",
       "    </tr>\n",
       "    <tr>\n",
       "      <th>Date</th>\n",
       "      <th></th>\n",
       "      <th></th>\n",
       "    </tr>\n",
       "  </thead>\n",
       "  <tbody>\n",
       "    <tr>\n",
       "      <th>2000-01-03</th>\n",
       "      <td>0.088754</td>\n",
       "      <td>-0.032189</td>\n",
       "    </tr>\n",
       "    <tr>\n",
       "      <th>2000-01-04</th>\n",
       "      <td>-0.084310</td>\n",
       "      <td>0.001108</td>\n",
       "    </tr>\n",
       "    <tr>\n",
       "      <th>2000-01-05</th>\n",
       "      <td>0.014633</td>\n",
       "      <td>0.008860</td>\n",
       "    </tr>\n",
       "    <tr>\n",
       "      <th>2000-01-06</th>\n",
       "      <td>-0.086538</td>\n",
       "      <td>0.001098</td>\n",
       "    </tr>\n",
       "    <tr>\n",
       "      <th>2000-01-07</th>\n",
       "      <td>0.047369</td>\n",
       "      <td>0.065789</td>\n",
       "    </tr>\n",
       "    <tr>\n",
       "      <th>...</th>\n",
       "      <td>...</td>\n",
       "      <td>...</td>\n",
       "    </tr>\n",
       "    <tr>\n",
       "      <th>2023-10-25</th>\n",
       "      <td>-0.013492</td>\n",
       "      <td>0.008627</td>\n",
       "    </tr>\n",
       "    <tr>\n",
       "      <th>2023-10-26</th>\n",
       "      <td>-0.024606</td>\n",
       "      <td>-0.006058</td>\n",
       "    </tr>\n",
       "    <tr>\n",
       "      <th>2023-10-27</th>\n",
       "      <td>0.007969</td>\n",
       "      <td>-0.009681</td>\n",
       "    </tr>\n",
       "    <tr>\n",
       "      <th>2023-10-30</th>\n",
       "      <td>0.012305</td>\n",
       "      <td>0.016474</td>\n",
       "    </tr>\n",
       "    <tr>\n",
       "      <th>2023-10-31</th>\n",
       "      <td>0.002819</td>\n",
       "      <td>0.006055</td>\n",
       "    </tr>\n",
       "  </tbody>\n",
       "</table>\n",
       "<p>5996 rows × 2 columns</p>\n",
       "</div>"
      ],
      "text/plain": [
       "                AAPL        KO\n",
       "Date                          \n",
       "2000-01-03  0.088754 -0.032189\n",
       "2000-01-04 -0.084310  0.001108\n",
       "2000-01-05  0.014633  0.008860\n",
       "2000-01-06 -0.086538  0.001098\n",
       "2000-01-07  0.047369  0.065789\n",
       "...              ...       ...\n",
       "2023-10-25 -0.013492  0.008627\n",
       "2023-10-26 -0.024606 -0.006058\n",
       "2023-10-27  0.007969 -0.009681\n",
       "2023-10-30  0.012305  0.016474\n",
       "2023-10-31  0.002819  0.006055\n",
       "\n",
       "[5996 rows x 2 columns]"
      ]
     },
     "execution_count": 3,
     "metadata": {},
     "output_type": "execute_result"
    }
   ],
   "source": [
    "# portfolio_tickers = ['AAPL','GE','TSLA','AMZN','V','MSFT','XOM','NVDA','BAC','INTC','T','NIO','GOOGL','F','PLTR','AAL']\n",
    "portfolio_tickers = ['AAPL','KO']\n",
    "\n",
    "# Try to download the return data for all of the tickers in the portfolio\n",
    "df_data_raw =  yf.download(portfolio_tickers, period='max', progress=False)\n",
    "\n",
    "\n",
    "price_col = 'Adj Close'\n",
    "df_price = df_data_raw[price_col].copy()\n",
    "df_price.index = pd.to_datetime(df_price.index)\n",
    "df_rets = df_price.pct_change()\n",
    "df_rets  = df_rets.loc[UNIVERSAL_START_DATE:UNIVERSAL_END_DATE,:].dropna() \n",
    "df_rets"
   ]
  },
  {
   "cell_type": "code",
   "execution_count": null,
   "metadata": {},
   "outputs": [],
   "source": []
  },
  {
   "cell_type": "code",
   "execution_count": null,
   "metadata": {},
   "outputs": [],
   "source": []
  },
  {
   "cell_type": "code",
   "execution_count": null,
   "metadata": {},
   "outputs": [],
   "source": []
  },
  {
   "cell_type": "code",
   "execution_count": null,
   "metadata": {},
   "outputs": [],
   "source": []
  },
  {
   "cell_type": "code",
   "execution_count": null,
   "metadata": {},
   "outputs": [],
   "source": []
  },
  {
   "cell_type": "code",
   "execution_count": null,
   "metadata": {},
   "outputs": [],
   "source": []
  },
  {
   "cell_type": "code",
   "execution_count": null,
   "metadata": {},
   "outputs": [],
   "source": []
  },
  {
   "cell_type": "code",
   "execution_count": null,
   "metadata": {},
   "outputs": [],
   "source": []
  },
  {
   "cell_type": "code",
   "execution_count": null,
   "metadata": {},
   "outputs": [],
   "source": []
  }
 ],
 "metadata": {
  "interpreter": {
   "hash": "cf92aa13fedf815d5c8dd192b8d835913fde3e8bc926b2a0ad6cc74ef2ba3ca2"
  },
  "kernelspec": {
   "display_name": "Python 3.9.5 64-bit",
   "language": "python",
   "name": "python3"
  },
  "language_info": {
   "codemirror_mode": {
    "name": "ipython",
    "version": 3
   },
   "file_extension": ".py",
   "mimetype": "text/x-python",
   "name": "python",
   "nbconvert_exporter": "python",
   "pygments_lexer": "ipython3",
   "version": "3.11.3"
  },
  "orig_nbformat": 4
 },
 "nbformat": 4,
 "nbformat_minor": 2
}
